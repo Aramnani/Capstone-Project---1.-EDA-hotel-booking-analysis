{
  "nbformat": 4,
  "nbformat_minor": 0,
  "metadata": {
    "colab": {
      "private_outputs": true,
      "provenance": [],
      "collapsed_sections": [
        "vncDsAP0Gaoa",
        "FJNUwmbgGyua",
        "w6K7xa23Elo4",
        "yQaldy8SH6Dl",
        "PH-0ReGfmX4f",
        "mDgbUHAGgjLW",
        "O_i_v8NEhb9l",
        "HhfV-JJviCcP",
        "Y3lxredqlCYt",
        "3RnN4peoiCZX",
        "x71ZqKXriCWQ",
        "7hBIi_osiCS2",
        "JlHwYmJAmNHm",
        "35m5QtbWiB9F",
        "PoPl-ycgm1ru",
        "H0kj-8xxnORC",
        "nA9Y7ga8ng1Z",
        "PBTbrJXOngz2",
        "u3PMJOP6ngxN",
        "dauF4eBmngu3",
        "bKJF3rekwFvQ",
        "MSa1f5Uengrz",
        "owjfkM__1uiq",
        "GF8Ens_Soomf",
        "0wOQAZs5pc--",
        "K5QZ13OEpz2H",
        "lQ7QKXXCp7Bj",
        "448CDAPjqfQr",
        "KSlN3yHqYklG",
        "t6dVpIINYklI",
        "ijmpgYnKYklI",
        "-JiQyfWJYklI",
        "EM7whBJCYoAo",
        "fge-S5ZAYoAp",
        "85gYPyotYoAp",
        "RoGjAbkUYoAp",
        "4Of9eVA-YrdM",
        "iky9q4vBYrdO",
        "F6T5p64dYrdO",
        "y-Ehk30pYrdP",
        "bamQiAODYuh1",
        "QHF8YVU7Yuh3",
        "GwzvFGzlYuh3",
        "qYpmQ266Yuh3",
        "OH-pJp9IphqM",
        "bbFf2-_FphqN",
        "_ouA3fa0phqN",
        "Seke61FWphqN",
        "PIIx-8_IphqN",
        "t27r6nlMphqO",
        "r2jJGEOYphqO",
        "b0JNsNcRphqO",
        "BZR9WyysphqO",
        "jj7wYXLtphqO",
        "eZrbJ2SmphqO",
        "rFu4xreNphqO",
        "YJ55k-q6phqO",
        "gCFgpxoyphqP",
        "OVtJsKN_phqQ",
        "lssrdh5qphqQ",
        "U2RJ9gkRphqQ",
        "1M8mcRywphqQ",
        "tgIPom80phqQ",
        "JMzcOPDDphqR",
        "x-EpHcCOp1ci",
        "X_VqEhTip1ck",
        "8zGJKyg5p1ck",
        "PVzmfK_Ep1ck",
        "n3dbpmDWp1ck",
        "ylSl6qgtp1ck",
        "ZWILFDl5p1ck",
        "M7G43BXep1ck",
        "Ag9LCva-p1cl",
        "E6MkPsBcp1cl",
        "2cELzS2fp1cl",
        "3MPXvC8up1cl",
        "dX5lcHfV5Xlh",
        "KwMQdpaE7BCI",
        "v12M08k28QNK",
        "r-5VghDpBLi7",
        "NC_X3p0fY2L0",
        "UV0SzAkaZNRQ",
        "JcMwzZxoAimU",
        "8G2x9gOozGDZ",
        "gCX9965dhzqZ",
        "gIfDvo9L0UH2"
      ],
      "include_colab_link": true
    },
    "kernelspec": {
      "name": "python3",
      "display_name": "Python 3"
    },
    "language_info": {
      "name": "python"
    }
  },
  "cells": [
    {
      "cell_type": "markdown",
      "metadata": {
        "id": "view-in-github",
        "colab_type": "text"
      },
      "source": [
        "<a href=\"https://colab.research.google.com/github/Aramnani/Capstone-Project---1.-EDA-hotel-booking-analysis/blob/main/Hotel_Booking_EDA_Submission_Aakash_Ramnani.ipynb\" target=\"_parent\"><img src=\"https://colab.research.google.com/assets/colab-badge.svg\" alt=\"Open In Colab\"/></a>"
      ]
    },
    {
      "cell_type": "markdown",
      "source": [
        "# **Project Name**    - Hotel Booking Analysis\n",
        "\n"
      ],
      "metadata": {
        "id": "vncDsAP0Gaoa"
      }
    },
    {
      "cell_type": "markdown",
      "source": [
        "##### **Project Type**    - EDA\n",
        "##### **Contribution**    - Individual\n",
        "##### **Name -**Aakash Ramnani"
      ],
      "metadata": {
        "id": "beRrZCGUAJYm"
      }
    },
    {
      "cell_type": "markdown",
      "source": [
        "# **Project Summary -**"
      ],
      "metadata": {
        "id": "FJNUwmbgGyua"
      }
    },
    {
      "cell_type": "markdown",
      "source": [
        "**Objective -**We are given a Hotel Booking dataset on which we need to perform EDA and draw useful conclusion about general trends in hotel booking and how factors governing hotel booking interact with each other.\n",
        "\n",
        "**Dataset -** Dataset contains booking information about the City hotels and Resort Hotels. This dataset has total **119390** rows and **32** columns.\n",
        "\n",
        "**EDA -**This are the question we have tried to find answers for :\n",
        "\n",
        "1. Which are busiest months for hotel?\n",
        "2. Which are the months when hotels make higher revenue?\n",
        "3. Which type of hotel is preferred more?\n",
        "4. Which room type is preferred more?\n",
        "5. Which room type has higher average daily rate(adr)?\n",
        "6. From which country is the highest number of booking received?\n",
        "7. Guest from which country cancels the booking most number of times?\n",
        "8. What is average stay for guests for both type of hotels?\n",
        "9. Which agent has most number of bookings?\n",
        "10. Which is the most comman channel for booking hotel?\n",
        "11. Which channel brings in the better revenue generating deal for the hotels?\n",
        "12. Which channel faces the highest number of booking cancellation?\n",
        "13. How do Longer waiting period affects cancellation?\n",
        "14. How do longer lead time affects cancellation?\n",
        "15. How do not getting assigned the demanded room affects cancellation?\n",
        "16. How do not getting assigned the demanded room affects average daily rate of hotel?\n",
        "17. How do lenght of stay affects adr?\n",
        "18. What is the impact of deposite policy on the cancellation?\n",
        "\n",
        "**Visualization -**We have mostly used matplotlib and seaborn libraries for visualization. We have used following list of graphs :\n",
        "\n",
        "- Bar Plot\n",
        "- Scatter Plot\n",
        "- Box Plot\n",
        "- Line Chart\n",
        "- Heat Map"
      ],
      "metadata": {
        "id": "F6v_1wHtG2nS"
      }
    },
    {
      "cell_type": "markdown",
      "source": [
        "# **GitHub Link -**"
      ],
      "metadata": {
        "id": "w6K7xa23Elo4"
      }
    },
    {
      "cell_type": "markdown",
      "source": [
        "Provide your GitHub Link here."
      ],
      "metadata": {
        "id": "h1o69JH3Eqqn"
      }
    },
    {
      "cell_type": "markdown",
      "source": [
        "# **Problem Statement**\n"
      ],
      "metadata": {
        "id": "yQaldy8SH6Dl"
      }
    },
    {
      "cell_type": "markdown",
      "source": [
        "We are given a hotel booking data set with has 119390 rows and 32 columns with possible duplicate values and null values. Dataset contains booking information about the City hotels and Resort Hotels. We need to perfrom a detailed EDA on it to come up with insights that can have positive impact on the industry."
      ],
      "metadata": {
        "id": "DpeJGUA3kjGy"
      }
    },
    {
      "cell_type": "markdown",
      "source": [
        "#### **Define Your Business Objective?**"
      ],
      "metadata": {
        "id": "PH-0ReGfmX4f"
      }
    },
    {
      "cell_type": "markdown",
      "source": [
        "We are given a Hotel Booking dataset on which we need to perform EDA and draw useful conclusion about general trends in hotel booking and how factors governing hotel booking interact with each other."
      ],
      "metadata": {
        "id": "PhDvGCAqmjP1"
      }
    },
    {
      "cell_type": "markdown",
      "source": [
        "# **General Guidelines** : -  "
      ],
      "metadata": {
        "id": "mDgbUHAGgjLW"
      }
    },
    {
      "cell_type": "markdown",
      "source": [
        "1.   Well-structured, formatted, and commented code is required. \n",
        "2.   Exception Handling, Production Grade Code & Deployment Ready Code will be a plus. Those students will be awarded some additional credits. \n",
        "     \n",
        "     The additional credits will have advantages over other students during Star Student selection.\n",
        "       \n",
        "             [ Note: - Deployment Ready Code is defined as, the whole .ipynb notebook should be executable in one go\n",
        "                       without a single error logged. ]\n",
        "\n",
        "3.   Each and every logic should have proper comments.\n",
        "4. You may add as many number of charts you want. Make Sure for each and every chart the following format should be answered.\n",
        "        \n",
        "\n",
        "```\n",
        "# Chart visualization code\n",
        "```\n",
        "            \n",
        "\n",
        "*   Why did you pick the specific chart?\n",
        "*   What is/are the insight(s) found from the chart?\n",
        "* Will the gained insights help creating a positive business impact? \n",
        "Are there any insights that lead to negative growth? Justify with specific reason.\n",
        "\n",
        "5. You have to create at least 20 logical & meaningful charts having important insights.\n",
        "\n",
        "\n",
        "[ Hints : - Do the Vizualization in  a structured way while following \"UBM\" Rule. \n",
        "\n",
        "U - Univariate Analysis,\n",
        "\n",
        "B - Bivariate Analysis (Numerical - Categorical, Numerical - Numerical, Categorical - Categorical)\n",
        "\n",
        "M - Multivariate Analysis\n",
        " ]\n",
        "\n",
        "\n",
        "\n"
      ],
      "metadata": {
        "id": "ZrxVaUj-hHfC"
      }
    },
    {
      "cell_type": "markdown",
      "source": [
        "# ***Let's Begin !***"
      ],
      "metadata": {
        "id": "O_i_v8NEhb9l"
      }
    },
    {
      "cell_type": "markdown",
      "source": [
        "## ***1. Know Your Data***"
      ],
      "metadata": {
        "id": "HhfV-JJviCcP"
      }
    },
    {
      "cell_type": "markdown",
      "source": [
        "### Import Libraries"
      ],
      "metadata": {
        "id": "Y3lxredqlCYt"
      }
    },
    {
      "cell_type": "code",
      "source": [
        "# Import Libraries\n",
        "import numpy as np\n",
        "import pandas as pd\n",
        "import matplotlib\n",
        "import matplotlib.pyplot as plt\n",
        "import plotly.graph_objects as go\n",
        "import seaborn as sns\n",
        "import folium\n",
        "import plotly.express as px\n",
        "%matplotlib inline\n",
        "import missingno as msno"
      ],
      "metadata": {
        "id": "M8Vqi-pPk-HR"
      },
      "execution_count": null,
      "outputs": []
    },
    {
      "cell_type": "markdown",
      "source": [
        "### Dataset Loading"
      ],
      "metadata": {
        "id": "3RnN4peoiCZX"
      }
    },
    {
      "cell_type": "code",
      "source": [
        "from google.colab import drive\n",
        "drive.mount('/content/drive')"
      ],
      "metadata": {
        "id": "rxUZqvo5DdJ4"
      },
      "execution_count": null,
      "outputs": []
    },
    {
      "cell_type": "code",
      "source": [
        "file_path = '/content/drive/MyDrive/Almabetter/Module 1/Week 3/EDA - Capstone Project/Hotel Booking /Hotel Bookings.csv'\n",
        "hb_df = pd.read_csv(file_path)"
      ],
      "metadata": {
        "id": "SmHUwrgJDxKD"
      },
      "execution_count": null,
      "outputs": []
    },
    {
      "cell_type": "markdown",
      "source": [
        "### Dataset First View"
      ],
      "metadata": {
        "id": "x71ZqKXriCWQ"
      }
    },
    {
      "cell_type": "code",
      "source": [
        "# Dataset First Look\n",
        "hb_df.head()"
      ],
      "metadata": {
        "id": "LWNFOSvLl09H"
      },
      "execution_count": null,
      "outputs": []
    },
    {
      "cell_type": "code",
      "source": [
        "hb_df.tail()"
      ],
      "metadata": {
        "id": "3adW1sZvD9ho"
      },
      "execution_count": null,
      "outputs": []
    },
    {
      "cell_type": "markdown",
      "source": [
        "### Dataset Rows & Columns count"
      ],
      "metadata": {
        "id": "7hBIi_osiCS2"
      }
    },
    {
      "cell_type": "code",
      "source": [
        "# Dataset Rows & Columns count\n",
        "hb_df.shape"
      ],
      "metadata": {
        "id": "Kllu7SJgmLij"
      },
      "execution_count": null,
      "outputs": []
    },
    {
      "cell_type": "markdown",
      "source": [
        "### Dataset Information"
      ],
      "metadata": {
        "id": "JlHwYmJAmNHm"
      }
    },
    {
      "cell_type": "code",
      "source": [
        "# Dataset Info\n",
        "hb_df.info()"
      ],
      "metadata": {
        "id": "e9hRXRi6meOf"
      },
      "execution_count": null,
      "outputs": []
    },
    {
      "cell_type": "markdown",
      "source": [
        "#### Duplicate Values"
      ],
      "metadata": {
        "id": "35m5QtbWiB9F"
      }
    },
    {
      "cell_type": "code",
      "source": [
        "# Dataset Duplicate Value Count\n",
        "hb_df.duplicated()\n",
        "hb_df[hb_df.duplicated()].shape"
      ],
      "metadata": {
        "id": "1sLdpKYkmox0"
      },
      "execution_count": null,
      "outputs": []
    },
    {
      "cell_type": "markdown",
      "source": [
        "#### Missing Values/Null Values"
      ],
      "metadata": {
        "id": "PoPl-ycgm1ru"
      }
    },
    {
      "cell_type": "code",
      "source": [
        "# Missing Values/Null Values Count\n",
        "hb_df.isnull().sum().sort_values(ascending = False)"
      ],
      "metadata": {
        "id": "GgHWkxvamxVg"
      },
      "execution_count": null,
      "outputs": []
    },
    {
      "cell_type": "code",
      "source": [
        "# Visualizing the missing values\n",
        "msno.bar(hb_df)"
      ],
      "metadata": {
        "id": "3q5wnI3om9sJ"
      },
      "execution_count": null,
      "outputs": []
    },
    {
      "cell_type": "markdown",
      "source": [
        "### What did you know about your dataset?"
      ],
      "metadata": {
        "id": "H0kj-8xxnORC"
      }
    },
    {
      "cell_type": "markdown",
      "source": [
        "- There ars 119390 rows and 32 columns in this dataset. \n",
        "\n",
        "- There are 31994 duplicate values, however there is no unique diffrentiating value present in dataframe like 'booking id' or 'customer name'. Hence we cannont conclude that this duplicate values are actually duplicate.\n",
        "\n",
        "- Columns 'company','agent','country' and 'children have null values.\n",
        "\n",
        "- Values for agent and company are represented by number.Reason for null values in agent and company could be if the bookings were made directly.\n",
        "\n",
        "- Values for children is also represnted as numbers (no. of children). As number of null values in children is significantly low also there could be a possibility there were no children present."
      ],
      "metadata": {
        "id": "gfoNAAC-nUe_"
      }
    },
    {
      "cell_type": "markdown",
      "source": [
        "## ***2. Understanding Your Variables***"
      ],
      "metadata": {
        "id": "nA9Y7ga8ng1Z"
      }
    },
    {
      "cell_type": "code",
      "source": [
        "# Dataset Columns\n",
        "hb_df.columns"
      ],
      "metadata": {
        "id": "j7xfkqrt5Ag5"
      },
      "execution_count": null,
      "outputs": []
    },
    {
      "cell_type": "code",
      "source": [
        "# Dataset Describe\n",
        "hb_df.describe()"
      ],
      "metadata": {
        "id": "DnOaZdaE5Q5t"
      },
      "execution_count": null,
      "outputs": []
    },
    {
      "cell_type": "markdown",
      "source": [
        "### Variables Description "
      ],
      "metadata": {
        "id": "PBTbrJXOngz2"
      }
    },
    {
      "cell_type": "markdown",
      "source": [
        "- **hotel -** Hotel (H1 = Resort Hotel or H2 = City Hotel)\n",
        "\n",
        "- **is_canceled -** Value indicating if the booking was canceled (1) or not (0)\n",
        "\n",
        "- **lead_time -** Number of days that elapsed between the entering date of the booking into the PMS and the arrival date\n",
        "\n",
        "- **arrival_date_year -** Year of arrival date\n",
        "\n",
        "- **arrival_date_month -** Month of arrival date\n",
        "\n",
        "- **arrival_date_week_number -** Week number of year for arrival date\n",
        "\n",
        "- **arrival_date_day_of_month -** Day of arrival date\n",
        "\n",
        "- **stays_in_weekend_nights -** Number of weekend nights (Saturday or Sunday) the guest stayed or booked to stay at the hotel\n",
        "\n",
        "- **stays_in_week_nights -** Number of week nights (Monday to Friday) the guest stayed or booked to stay at the hotel\n",
        "\n",
        "- **adults -** Number of adults\n",
        "\n",
        "- **children -** Number of children\n",
        "\n",
        "- **babies -** Number of babies\n",
        "\n",
        "- **meal -** Type of meal booked. Categories are presented in standard hospitality meal packages: Undefined/SC – no meal package; BB – Bed & Breakfast; HB – Half board (breakfast and one other meal – usually dinner); FB – Full board (breakfast, lunch and dinner)\n",
        "\n",
        "- **country -** Country of origin. Categories are represented in the ISO 3155–3:2013 format\n",
        "\n",
        "- **market_segment -** Market segment designation. In categories, the term “TA” means “Travel Agents” and “TO” means “Tour Operators”\n",
        "\n",
        "- **distribution_channel -** Booking distribution channel. The term “TA” means “Travel Agents” and “TO” means “Tour Operators”\n",
        "\n",
        "- **is_repeated_guest -** Value indicating if the booking name was from a repeated guest (1) or not (0)\n",
        "\n",
        "- **previous_cancellations -** Number of previous bookings that were cancelled by the customer prior to the current booking\n",
        "\n",
        "- **previous_bookings_not_canceled -** Number of previous bookings not cancelled by the customer prior to the current booking\n",
        "\n",
        "- **reserved_room_type -** Code of room type reserved. Code is presented instead of designation for anonymity reasons.\n",
        "\n",
        "- **assigned_room_type -** Code for the type of room assigned to the booking. Sometimes the assigned room type differs from the reserved room type due to hotel operation reasons (e.g. overbooking) or by customer request. Code is presented instead of designation for anonymity reasons.\n",
        "\n",
        "- **booking_changes -** Number of changes/amendments made to the booking from the moment the booking was entered on the PMS until the moment of check-in or cancellation\n",
        "\n",
        "- **deposit_type -** Indication on if the customer made a deposit to guarantee the booking. This variable can assume three categories: No Deposit – no deposit was made; Non Refund – a deposit was made in the value of the total stay cost; Refundable – a deposit was made with a value under the total cost of stay.\n",
        "\n",
        "- **agent -** ID of the travel agency that made the booking\n",
        "- **company -** ID of the company/entity that made the booking or responsible for paying the booking. ID is presented instead of designation for anonymity reasons\n",
        "\n",
        "- **days_in_waiting_list -** Number of days the booking was in the waiting list before it was confirmed to the customer\n",
        "\n",
        "- **customer_type -** Type of booking, assuming one of four categories: Contract - when the booking has an allotment or other type of contract associated to it; Group – when the booking is associated to a group; Transient – when the booking is not part of a group or contract, and is not associated to other transient booking; Transient-party – when the booking is transient, but is associated to at least other transient booking\n",
        "\n",
        "- **adr -** Average Daily Rate as defined by dividing the sum of all lodging transactions by the total number of staying nights\n",
        "\n",
        "- **required_car_parking_spaces -** Number of car parking spaces required by the customer\n",
        "\n",
        "- **total_of_special_requests -** Number of special requests made by the customer (e.g. twin bed or high floor)\n",
        "\n",
        "- **reservation_status -** Reservation last status, assuming one of three categories: Canceled – booking was canceled by the customer; Check-Out – customer has checked in but already departed; No-Show – customer did not check-in and did inform the hotel of the reason why\n",
        "\n",
        "- **reservation_status_date -** Date at which the last status was set. This variable can be used in conjunction with the ReservationStatus to understand when was the booking canceled or when did the customer checked-out of the hotel"
      ],
      "metadata": {
        "id": "aJV4KIxSnxay"
      }
    },
    {
      "cell_type": "markdown",
      "source": [
        "### Check Unique Values for each variable."
      ],
      "metadata": {
        "id": "u3PMJOP6ngxN"
      }
    },
    {
      "cell_type": "code",
      "source": [
        "# Check Unique Values for each variable.\n",
        "hb_df['hotel'].unique()"
      ],
      "metadata": {
        "id": "zms12Yq5n-jE"
      },
      "execution_count": null,
      "outputs": []
    },
    {
      "cell_type": "code",
      "source": [
        "hb_df['is_canceled'].unique()"
      ],
      "metadata": {
        "id": "ydu2ZRhFgra0"
      },
      "execution_count": null,
      "outputs": []
    },
    {
      "cell_type": "code",
      "source": [
        "hb_df['lead_time'].unique()"
      ],
      "metadata": {
        "id": "nxhWfKzJguwh"
      },
      "execution_count": null,
      "outputs": []
    },
    {
      "cell_type": "code",
      "source": [
        "hb_df['arrival_date_year'].unique()"
      ],
      "metadata": {
        "id": "u6TKMmmag73s"
      },
      "execution_count": null,
      "outputs": []
    },
    {
      "cell_type": "code",
      "source": [
        "hb_df['arrival_date_month'].unique()"
      ],
      "metadata": {
        "id": "zQiNhw1fg-e-"
      },
      "execution_count": null,
      "outputs": []
    },
    {
      "cell_type": "code",
      "source": [
        "hb_df['arrival_date_week_number'].unique()"
      ],
      "metadata": {
        "id": "CZuONBOShBrI"
      },
      "execution_count": null,
      "outputs": []
    },
    {
      "cell_type": "code",
      "source": [
        "hb_df['arrival_date_day_of_month'].unique()"
      ],
      "metadata": {
        "id": "ufx8T38ShFEM"
      },
      "execution_count": null,
      "outputs": []
    },
    {
      "cell_type": "code",
      "source": [
        "hb_df['stays_in_weekend_nights'].unique()"
      ],
      "metadata": {
        "id": "6HNsqyzMhKdl"
      },
      "execution_count": null,
      "outputs": []
    },
    {
      "cell_type": "code",
      "source": [
        "hb_df['stays_in_week_nights'].unique()"
      ],
      "metadata": {
        "id": "ha7RYCN3hNsk"
      },
      "execution_count": null,
      "outputs": []
    },
    {
      "cell_type": "code",
      "source": [
        "hb_df['adults'].unique()"
      ],
      "metadata": {
        "id": "JqKV_5L0hQW_"
      },
      "execution_count": null,
      "outputs": []
    },
    {
      "cell_type": "code",
      "source": [
        "hb_df['children'].unique()"
      ],
      "metadata": {
        "id": "dQmllvpMhTfc"
      },
      "execution_count": null,
      "outputs": []
    },
    {
      "cell_type": "code",
      "source": [
        "hb_df['babies'].unique()"
      ],
      "metadata": {
        "id": "eYRYYuzQhW4E"
      },
      "execution_count": null,
      "outputs": []
    },
    {
      "cell_type": "code",
      "source": [
        "hb_df['meal'].unique()"
      ],
      "metadata": {
        "id": "EcysuyP5hZmp"
      },
      "execution_count": null,
      "outputs": []
    },
    {
      "cell_type": "code",
      "source": [
        "hb_df['country'].unique()"
      ],
      "metadata": {
        "id": "R99YJlf9hcOu"
      },
      "execution_count": null,
      "outputs": []
    },
    {
      "cell_type": "code",
      "source": [
        "hb_df['market_segment'].unique()"
      ],
      "metadata": {
        "id": "aA6dw_8Bhe1b"
      },
      "execution_count": null,
      "outputs": []
    },
    {
      "cell_type": "code",
      "source": [
        "hb_df['distribution_channel'].unique()"
      ],
      "metadata": {
        "id": "R3WslYIyhimE"
      },
      "execution_count": null,
      "outputs": []
    },
    {
      "cell_type": "code",
      "source": [
        "hb_df['is_repeated_guest'].unique()"
      ],
      "metadata": {
        "id": "m-DIE9Anhl6u"
      },
      "execution_count": null,
      "outputs": []
    },
    {
      "cell_type": "code",
      "source": [
        "hb_df['previous_cancellations'].unique()"
      ],
      "metadata": {
        "id": "1LvxKBEzhpYJ"
      },
      "execution_count": null,
      "outputs": []
    },
    {
      "cell_type": "code",
      "source": [
        "hb_df['previous_bookings_not_canceled'].unique()"
      ],
      "metadata": {
        "id": "j3jMK6rdhs4_"
      },
      "execution_count": null,
      "outputs": []
    },
    {
      "cell_type": "code",
      "source": [
        "hb_df['reserved_room_type'].unique()"
      ],
      "metadata": {
        "id": "a9nO3VBJhwiT"
      },
      "execution_count": null,
      "outputs": []
    },
    {
      "cell_type": "code",
      "source": [
        "hb_df['assigned_room_type'].unique()"
      ],
      "metadata": {
        "id": "tt45OHVlhzpt"
      },
      "execution_count": null,
      "outputs": []
    },
    {
      "cell_type": "code",
      "source": [
        "hb_df['booking_changes'].unique()"
      ],
      "metadata": {
        "id": "ad0-oxWjh3f3"
      },
      "execution_count": null,
      "outputs": []
    },
    {
      "cell_type": "code",
      "source": [
        "hb_df['deposit_type'].unique()"
      ],
      "metadata": {
        "id": "_TVjNjWVh6vl"
      },
      "execution_count": null,
      "outputs": []
    },
    {
      "cell_type": "code",
      "source": [
        "hb_df['agent'].unique()"
      ],
      "metadata": {
        "id": "O2DhQBeEh90P"
      },
      "execution_count": null,
      "outputs": []
    },
    {
      "cell_type": "code",
      "source": [
        "hb_df['company'].unique()"
      ],
      "metadata": {
        "id": "FSnFnegLiBkp"
      },
      "execution_count": null,
      "outputs": []
    },
    {
      "cell_type": "code",
      "source": [
        "hb_df['days_in_waiting_list'].unique()"
      ],
      "metadata": {
        "id": "v4kTDLOLiFtB"
      },
      "execution_count": null,
      "outputs": []
    },
    {
      "cell_type": "code",
      "source": [
        "hb_df['customer_type'].unique()"
      ],
      "metadata": {
        "id": "YTuSYdO7iJjf"
      },
      "execution_count": null,
      "outputs": []
    },
    {
      "cell_type": "code",
      "source": [
        "hb_df['adr'].unique()"
      ],
      "metadata": {
        "id": "stOg2C5ciMtt"
      },
      "execution_count": null,
      "outputs": []
    },
    {
      "cell_type": "code",
      "source": [
        "hb_df['required_car_parking_spaces'].unique()"
      ],
      "metadata": {
        "id": "_K7P6sRiiPoF"
      },
      "execution_count": null,
      "outputs": []
    },
    {
      "cell_type": "code",
      "source": [
        "hb_df['total_of_special_requests'].unique()"
      ],
      "metadata": {
        "id": "Lz_vn1mDiS_8"
      },
      "execution_count": null,
      "outputs": []
    },
    {
      "cell_type": "code",
      "source": [
        "hb_df['reservation_status'].unique()"
      ],
      "metadata": {
        "id": "hsrfBQNPiWQH"
      },
      "execution_count": null,
      "outputs": []
    },
    {
      "cell_type": "code",
      "source": [
        "hb_df['reservation_status_date'].unique()"
      ],
      "metadata": {
        "id": "KFwYTZTtiZZM"
      },
      "execution_count": null,
      "outputs": []
    },
    {
      "cell_type": "markdown",
      "source": [
        "## 3. ***Data Wrangling***"
      ],
      "metadata": {
        "id": "dauF4eBmngu3"
      }
    },
    {
      "cell_type": "markdown",
      "source": [
        "### Data Wrangling Code"
      ],
      "metadata": {
        "id": "bKJF3rekwFvQ"
      }
    },
    {
      "cell_type": "code",
      "source": [
        "# Write your code to make your dataset analysis ready.\n",
        "hb_df_new = hb_df.copy()"
      ],
      "metadata": {
        "id": "wk-9a2fpoLcV"
      },
      "execution_count": null,
      "outputs": []
    },
    {
      "cell_type": "code",
      "source": [
        "#duplicate values\n",
        "hb_df_new.duplicated()\n",
        "hb_df_new[hb_df_new.duplicated()].shape"
      ],
      "metadata": {
        "id": "A8mMI3glqpRV"
      },
      "execution_count": null,
      "outputs": []
    },
    {
      "cell_type": "markdown",
      "source": [
        "There are 31994 duplicate values, however there is no unique diffrentiating value present in dataframe like 'booking id' or 'customer name'. Hence we cannont conclude that this duplicate values are actually duplicate. They can also be values that could be taken into consideration and their matching with other values can be mere co-incidence. So we are not dropping the duplicate values."
      ],
      "metadata": {
        "id": "-1M_l8HxrFII"
      }
    },
    {
      "cell_type": "code",
      "source": [
        "#Handling Missing Values and null values\n",
        "hb_df_new.isnull().sum().sort_values(ascending = False)"
      ],
      "metadata": {
        "id": "MCOVTV0QrJ6M"
      },
      "execution_count": null,
      "outputs": []
    },
    {
      "cell_type": "code",
      "source": [
        "#values for agent and company are represented by number.\n",
        "#Reason for null values in agent and company could be if the bookings were made directly.\n",
        "#Replacing the null values with 0 for agent and company columns\n",
        "\n",
        "hb_df_new[['company','agent']] = hb_df_new[['company','agent']].fillna(0)"
      ],
      "metadata": {
        "id": "aXm_AlcSrO3_"
      },
      "execution_count": null,
      "outputs": []
    },
    {
      "cell_type": "code",
      "source": [
        "#Values for children is also represnted as numbers (no. of children).\n",
        "#As number of null values in children is significantly low also there could be a possibility there were no children present.\n",
        "#Replacing the null values in children with 0.\n",
        "\n",
        "hb_df_new['children'] = hb_df_new['children'].fillna(0)"
      ],
      "metadata": {
        "id": "okksNZpPrWOg"
      },
      "execution_count": null,
      "outputs": []
    },
    {
      "cell_type": "code",
      "source": [
        "#For null values in country, we will replace the value with 'others' as the type of value in country is string.\n",
        "hb_df_new['country'].fillna('others', inplace = True)"
      ],
      "metadata": {
        "id": "embskzHDrd7B"
      },
      "execution_count": null,
      "outputs": []
    },
    {
      "cell_type": "code",
      "source": [
        "#Checking again for null values.\n",
        "hb_df_new.isnull().sum().sort_values(ascending = False)"
      ],
      "metadata": {
        "id": "QqIphy3Jrhil"
      },
      "execution_count": null,
      "outputs": []
    },
    {
      "cell_type": "code",
      "source": [
        "# Converting datatype of columns 'children', 'company' and 'agent' from float to int.\n",
        "hb_df_new[['children', 'company', 'agent']] = hb_df_new[['children', 'company', 'agent']].astype('int64')"
      ],
      "metadata": {
        "id": "xEPvxbmWrlWk"
      },
      "execution_count": null,
      "outputs": []
    },
    {
      "cell_type": "code",
      "source": [
        "# Creating new column 'total_stay' by adding 'stay_in_weekend_nights' and 'stay_in_week_nights'\n",
        "hb_df_new['reservation_status_date'] = pd.to_datetime(hb_df_new['reservation_status_date'], format = '%Y-%m-%d')\n",
        "hb_df_new['total_stay'] = hb_df_new['stays_in_weekend_nights']+hb_df_new['stays_in_week_nights']"
      ],
      "metadata": {
        "id": "iV-an1-FtFcn"
      },
      "execution_count": null,
      "outputs": []
    },
    {
      "cell_type": "markdown",
      "source": [
        "### What all manipulations have you done and insights you found?"
      ],
      "metadata": {
        "id": "MSa1f5Uengrz"
      }
    },
    {
      "cell_type": "markdown",
      "source": [
        "- There are 31994 duplicate values, however there is no unique diffrentiating value present in dataframe like 'booking id' or 'customer name'. Hence we cannont conclude that this duplicate values are actually duplicate. They can also be values that could be taken into consideration and their matching with other values can be mere co-incidence. So we are not dropping the duplicate values.\n",
        "\n",
        "- values for agent and company are represented by number. Reason for null values in agent and company could be if the bookings were made directly. Replacing the null values with 0 for agent and company columns.\n",
        "\n",
        "- Values for children is also represnted as numbers (no. of children). As number of null values in children is significantly low also there could be a possibility there were no children present. Replacing the null values in children with 0.\n",
        "\n",
        "- For null values in country, we will replace the value with 'others' as the type of value in country is string.\n",
        "\n",
        "- Converting datatype of columns 'children', 'company' and 'agent' from float to int.\n",
        "\n",
        "- Creating new column 'total_stay' by adding 'stay_in_weekend_nights' and 'stay_in_week_nights'"
      ],
      "metadata": {
        "id": "LbyXE7I1olp8"
      }
    },
    {
      "cell_type": "markdown",
      "source": [
        "#**EDA**"
      ],
      "metadata": {
        "id": "owjfkM__1uiq"
      }
    },
    {
      "cell_type": "markdown",
      "source": [
        "**Hotel type with high booking percentage**\n"
      ],
      "metadata": {
        "id": "2dnlaYHj1xnh"
      }
    },
    {
      "cell_type": "code",
      "source": [
        "No_of_hotel_intype = hb_df_new.groupby('hotel')\n",
        "booking_percent_df  = pd.DataFrame(100 * (No_of_hotel_intype.size()/hb_df_new.shape[0])).reset_index().rename(columns = {0:'Booking Percentage'})\n",
        "booking_percent_df"
      ],
      "metadata": {
        "id": "j3b7ZJxw1fqh"
      },
      "execution_count": null,
      "outputs": []
    },
    {
      "cell_type": "markdown",
      "source": [
        "**Booking percentage for City Hotel is more than 60% and for Resort Hotel the number is somewhere around 40%. However one should also consider the fact that number of City Hotel is more than Resort Hotel which could lead to higher booking percentage. To gain more clarity on the hotel prefrence lets look at the revenue each hotel type make.**"
      ],
      "metadata": {
        "id": "IzVnE5xF15i8"
      }
    },
    {
      "cell_type": "code",
      "source": [
        "hotel_revenue_df = hb_df_new.groupby('hotel')['adr'].mean().reset_index().rename(columns = {'adr':'Avg adr'})\n",
        "hotel_revenue_df"
      ],
      "metadata": {
        "id": "wigQ8T1O18j_"
      },
      "execution_count": null,
      "outputs": []
    },
    {
      "cell_type": "markdown",
      "source": [
        "**The booking percentage for both the hotel type had huge difference between them howere there is significantly lower diffrence in the revenue made by both the hotel type. City Hotel make slighlty more revenue than Resort Hotel.** "
      ],
      "metadata": {
        "id": "i8sAXj1-2WWX"
      }
    },
    {
      "cell_type": "markdown",
      "source": [
        "**Average Stay for both the hotels.**"
      ],
      "metadata": {
        "id": "TRgqpL9-3RL7"
      }
    },
    {
      "cell_type": "code",
      "source": [
        "Guest_stay = hb_df_new[hb_df_new['is_canceled']==0]\n",
        "avg_stay = Guest_stay.groupby('hotel')['total_stay'].mean().reset_index()\n",
        "avg_stay"
      ],
      "metadata": {
        "id": "sLd8Dne43Y-F"
      },
      "execution_count": null,
      "outputs": []
    },
    {
      "cell_type": "markdown",
      "source": [
        "**Average stay for guest in City Hotel is almost 3 days and the average stay for guest in resort hotel is around 4 days.** "
      ],
      "metadata": {
        "id": "yuBlR-IR3uQH"
      }
    },
    {
      "cell_type": "markdown",
      "source": [
        "**Most demanded room type**"
      ],
      "metadata": {
        "id": "K046fLnOZZHD"
      }
    },
    {
      "cell_type": "code",
      "source": [
        "reserved_room_df = hb_df_new.groupby('reserved_room_type')[\"hotel\"].count().reset_index().sort_values('hotel',ascending=False)\n",
        "reserved_room_df\n"
      ],
      "metadata": {
        "id": "jf8rbiamZkvx"
      },
      "execution_count": null,
      "outputs": []
    },
    {
      "cell_type": "markdown",
      "source": [
        "**Most number of guests prefer Room type A.**"
      ],
      "metadata": {
        "id": "D1h_0Dn1Z93y"
      }
    },
    {
      "cell_type": "markdown",
      "source": [
        "**Room type with highest average adr.**"
      ],
      "metadata": {
        "id": "pV278KNfaH2f"
      }
    },
    {
      "cell_type": "code",
      "source": [
        "not_canceled_df = hb_df_new[hb_df_new['is_canceled']==0]\n",
        "high_adr_room_type = not_canceled_df.groupby('assigned_room_type')['adr'].mean().reset_index().sort_values('adr',ascending=False).rename(columns={'adr':'Avg adr'})\n",
        "high_adr_room_type"
      ],
      "metadata": {
        "id": "x9mUXqH5aG3O"
      },
      "execution_count": null,
      "outputs": []
    },
    {
      "cell_type": "markdown",
      "source": [
        "**The room type with average daily rate is type H. However the room type that is most in demand is type A. Pramoting and increasing the no. of rooms of type A,H and G can result in higher revemue for hotels.**"
      ],
      "metadata": {
        "id": "CR-4WBuvaqmI"
      }
    },
    {
      "cell_type": "markdown",
      "source": [
        "**The most comman channel used for booking hotels**"
      ],
      "metadata": {
        "id": "SkdGfBDTbR60"
      }
    },
    {
      "cell_type": "code",
      "source": [
        "new_dis_channel_df = hb_df_new[hb_df_new['distribution_channel']!='Undefined']\n",
        "dis_channel_df = new_dis_channel_df.groupby('distribution_channel')['hotel'].count().reset_index().sort_values('hotel',ascending=False).rename(columns = {'hotel' : 'no. of bookings'})\n",
        "dis_channel_df"
      ],
      "metadata": {
        "id": "wJU-ps0HbTfF"
      },
      "execution_count": null,
      "outputs": []
    },
    {
      "cell_type": "markdown",
      "source": [
        "**The Highest Number of bookings is done by TA/TO**"
      ],
      "metadata": {
        "id": "7N8j-1aFbhHn"
      }
    },
    {
      "cell_type": "markdown",
      "source": [
        "**Distribution channel with most number of cancelations**"
      ],
      "metadata": {
        "id": "ollE7cgubqH4"
      }
    },
    {
      "cell_type": "code",
      "source": [
        "dis_channel_cancel_df = new_dis_channel_df.groupby(['distribution_channel','is_canceled'])[\"hotel\"].count().reset_index().sort_values('hotel',ascending=False)\n",
        "dis_channel_cancel_df"
      ],
      "metadata": {
        "id": "D2iGgjmNb1ty"
      },
      "execution_count": null,
      "outputs": []
    },
    {
      "cell_type": "markdown",
      "source": [
        "**Distribution Channel with most number of cancellation is TA/TO.**"
      ],
      "metadata": {
        "id": "bzCRaHt3cFPO"
      }
    },
    {
      "cell_type": "markdown",
      "source": [
        "**Distribution Channel with better revenue generating deal for hotels.**"
      ],
      "metadata": {
        "id": "VxAUHjccc6bV"
      }
    },
    {
      "cell_type": "code",
      "source": [
        "dc_hotel = hb_df_new.groupby(['hotel','distribution_channel'])['adr'].mean().reset_index().rename(columns = {'adr':'Avg adr'})\n",
        "dc_hotel"
      ],
      "metadata": {
        "id": "GoDT1Jb6dAv5"
      },
      "execution_count": null,
      "outputs": []
    },
    {
      "cell_type": "markdown",
      "source": [
        "**Graph shows GDS channel bring the better revenue generating deals for city hotel. However the most number of booking are done through TA/TO. City hotels should be working on increasing the outreach on GDS channel to get more better deals.**\n",
        "\n",
        "**Direct channel is the channel bringing in better revenue generating deal for Resort Hotel, However GDS which is better revenue generating distribution channel for city hotel has no contribution in generating reveue for Resort Hotel. Resort Hotel should work on increasing the outreach on GDS channel as well to bring in better revenue generating deals.** \n"
      ],
      "metadata": {
        "id": "ioBu_XDqdPLu"
      }
    },
    {
      "cell_type": "markdown",
      "source": [
        "**Agent with most number of bookings**"
      ],
      "metadata": {
        "id": "LO7uQ63idv_n"
      }
    },
    {
      "cell_type": "code",
      "source": [
        "agent_booking_df = hb_df_new.groupby(['agent','is_canceled'])[\"hotel\"].count().reset_index().sort_values('hotel', ascending=False)[:10]\n",
        "agent_booking_df"
      ],
      "metadata": {
        "id": "sdovD4i2dxIX"
      },
      "execution_count": null,
      "outputs": []
    },
    {
      "cell_type": "markdown",
      "source": [
        "**Agent no.9 has most number of booking and also the most number of cancelations**"
      ],
      "metadata": {
        "id": "U8tRy9P8eJTf"
      }
    },
    {
      "cell_type": "markdown",
      "source": [
        "**Country from where most number of bookings are made and country from where most number of cancellations are faced.**"
      ],
      "metadata": {
        "id": "x63rLVyVrZPr"
      }
    },
    {
      "cell_type": "code",
      "source": [
        "country_wise = hb_df_new.groupby(['country','is_canceled'])['hotel'].count().reset_index().sort_values('hotel',ascending=False)[:10]\n",
        "country_wise"
      ],
      "metadata": {
        "id": "sDUHCWA_rupn"
      },
      "execution_count": null,
      "outputs": []
    },
    {
      "cell_type": "markdown",
      "source": [
        "**Most number of booking comes from Portugal, out of which 56.6% of booking gets cancelled.**"
      ],
      "metadata": {
        "id": "saGhEYtWr4uF"
      }
    },
    {
      "cell_type": "markdown",
      "source": [
        "**Busiest Months of the year for hotels.**"
      ],
      "metadata": {
        "id": "U_aFGPmgr5rx"
      }
    },
    {
      "cell_type": "code",
      "source": [
        "not_cancelled_df = hb_df_new[hb_df_new['is_canceled']==0]"
      ],
      "metadata": {
        "id": "xZtuyVKJtCJu"
      },
      "execution_count": null,
      "outputs": []
    },
    {
      "cell_type": "code",
      "source": [
        "most_busy_month = not_cancelled_df.groupby(['arrival_date_month','hotel'])['is_canceled'].count().reset_index().sort_values('is_canceled',ascending=False).rename(columns = {'is_canceled':'no. of guests'})\n",
        "most_busy_month"
      ],
      "metadata": {
        "id": "sX0A_hDmtFyv"
      },
      "execution_count": null,
      "outputs": []
    },
    {
      "cell_type": "markdown",
      "source": [
        "**August and July are the months where hotels gets most number of guests.**"
      ],
      "metadata": {
        "id": "QOhDN5bytTO5"
      }
    },
    {
      "cell_type": "markdown",
      "source": [
        "**Booking trend around the year for hotels.**"
      ],
      "metadata": {
        "id": "KYLhd2bPtlFY"
      }
    },
    {
      "cell_type": "code",
      "source": [
        "resort_hotel_guest = hb_df_new[(hb_df_new['hotel'] == 'Resort Hotel') & (hb_df_new['is_canceled'] == 0)]\n",
        "City_hotel_guest = hb_df_new[(hb_df_new['hotel'] == 'City Hotel') & (hb_df_new['is_canceled'] == 0)]"
      ],
      "metadata": {
        "id": "sD-I7cvVtppM"
      },
      "execution_count": null,
      "outputs": []
    },
    {
      "cell_type": "code",
      "source": [
        "# For Resort Hotels\n",
        "\n",
        "resort_hotel_guest_df = resort_hotel_guest['arrival_date_month'].value_counts().reset_index()\n",
        "resort_hotel_guest_df.columns=['month','no. of guests']\n",
        "resort_hotel_guest_df"
      ],
      "metadata": {
        "id": "m46lUi-2txrH"
      },
      "execution_count": null,
      "outputs": []
    },
    {
      "cell_type": "code",
      "source": [
        "# For City Hotels.\n",
        "\n",
        "City_hotel_guest_df = City_hotel_guest['arrival_date_month'].value_counts().reset_index()\n",
        "City_hotel_guest_df.columns=['month','no. of guests']\n",
        "City_hotel_guest_df"
      ],
      "metadata": {
        "id": "xloL9GvvuCbM"
      },
      "execution_count": null,
      "outputs": []
    },
    {
      "cell_type": "code",
      "source": [
        "guest_city_resort_hotel=resort_hotel_guest_df.merge(City_hotel_guest_df, on = 'month')\n",
        "guest_city_resort_hotel.columns=['month','no. of guests in resort','no. of guest in city hotel']\n",
        "guest_city_resort_hotel\n",
        "months = ['January', 'February', 'March', 'April', 'May', 'June', 'July', 'August', 'September', 'October', 'November', 'December']\n",
        "guest_city_resort_hotel['month'] = pd.Categorical(guest_city_resort_hotel['month'], categories=months, ordered=True)\n",
        "guest_city_resort_hotel = guest_city_resort_hotel.sort_values('month').reset_index()\n",
        "guest_city_resort_hotel"
      ],
      "metadata": {
        "id": "pDYYFsENuOqs"
      },
      "execution_count": null,
      "outputs": []
    },
    {
      "cell_type": "markdown",
      "source": [
        "**Graph states that city hotel can see the rise in guest booking from march till october, where august is the month with highest number of guest and number decreses then after.**\n",
        "\n",
        "**For Resort hotel this trend is seen for months july and august.**"
      ],
      "metadata": {
        "id": "paKCvmzAuTR-"
      }
    },
    {
      "cell_type": "markdown",
      "source": [
        "**Impact of months on average daily rate and revenue of the hotel**"
      ],
      "metadata": {
        "id": "Di7_pg2hvEft"
      }
    },
    {
      "cell_type": "code",
      "source": [
        "hb_df_new.drop(hb_df_new[hb_df_new['adr'] > 5000].index, inplace = True) # Dropped the outlier value.\n",
        "resort_not_cancelled = hb_df_new[(hb_df_new['hotel'] == 'Resort Hotel') & (hb_df_new['is_canceled'] == 0)]\n",
        "city_not_cancelled = hb_df_new[(hb_df_new['hotel'] == 'City Hotel') & (hb_df_new['is_canceled'] == 0)]"
      ],
      "metadata": {
        "id": "T9oWGnMIvMGr"
      },
      "execution_count": null,
      "outputs": []
    },
    {
      "cell_type": "code",
      "source": [
        "resort_avg_adr = resort_not_cancelled.groupby('arrival_date_month')['adr'].mean().reset_index()\n",
        "city_avg_adr = city_not_cancelled.groupby('arrival_date_month')['adr'].mean().reset_index()\n",
        "resort_city_adr = resort_avg_adr.merge(city_avg_adr, on = 'arrival_date_month')\n",
        "resort_city_adr.columns = ['month','Resort Hotel Price','City Hotel Price']\n",
        "months = ['January', 'February', 'March', 'April', 'May', 'June', 'July', 'August', 'September', 'October', 'November', 'December']\n",
        "resort_city_adr['month'] = pd.Categorical(resort_city_adr['month'], categories=months, ordered=True)\n",
        "resort_city_adr = resort_city_adr.sort_values('month').reset_index()\n",
        "resort_city_adr"
      ],
      "metadata": {
        "id": "8MPr4umjvTHT"
      },
      "execution_count": null,
      "outputs": []
    },
    {
      "cell_type": "markdown",
      "source": [
        "**Average adr keeping rising from begining of the month and the reaches its peak in august month and then get lower at it reaches end of the year.However there is slight increase in the average adr value for december month, it can also be inferred that hotels make better deals with with higher adr during that month.**"
      ],
      "metadata": {
        "id": "z7146pR0vnbD"
      }
    },
    {
      "cell_type": "markdown",
      "source": [
        "**Impact of not getting assigned the same room as booked by the guests on cancellations.**"
      ],
      "metadata": {
        "id": "Orn_B0fT7dEq"
      }
    },
    {
      "cell_type": "code",
      "source": [
        "def check_room(x):\n",
        "  if x['reserved_room_type'] != x['assigned_room_type']:\n",
        "    return 1\n",
        "  else:\n",
        "    return 0\n",
        "\n",
        "hb_df_new['assigned_room_not_demanded_room'] = hb_df_new.apply(lambda x : check_room(x), axis = 1)\n",
        "grp_by_cancelation = hb_df_new.groupby('is_canceled')\n",
        "\n",
        "room_allocation = pd.DataFrame((grp_by_cancelation['assigned_room_not_demanded_room'].sum()/grp_by_cancelation.size())*100).rename(columns = {0: 'assigned_room_not_demanded_room%'})\n",
        "room_allocation"
      ],
      "metadata": {
        "id": "-Y1g_HiF7l6_"
      },
      "execution_count": null,
      "outputs": []
    },
    {
      "cell_type": "markdown",
      "source": [
        "**No significant effect of room allocation on cancellations.**"
      ],
      "metadata": {
        "id": "hvxIZPls73j9"
      }
    },
    {
      "cell_type": "markdown",
      "source": [
        "**Impact of deposite policy on cancellations.**"
      ],
      "metadata": {
        "id": "zCbyugAZAxz-"
      }
    },
    {
      "cell_type": "code",
      "source": [
        "impact_deposit_policy = hb_df_new.groupby(['deposit_type','is_canceled'])['hotel'].count().reset_index()\n",
        "impact_deposit_policy"
      ],
      "metadata": {
        "id": "FgbLBlZKA9zA"
      },
      "execution_count": null,
      "outputs": []
    },
    {
      "cell_type": "markdown",
      "source": [
        "## ***4. Data Vizualization, Storytelling & Experimenting with charts : Understand the relationships between variables***"
      ],
      "metadata": {
        "id": "GF8Ens_Soomf"
      }
    },
    {
      "cell_type": "markdown",
      "source": [
        "#### Chart - 1"
      ],
      "metadata": {
        "id": "0wOQAZs5pc--"
      }
    },
    {
      "cell_type": "code",
      "source": [
        "# Chart - 1 visualization code\n",
        "\n",
        "#Hotel type with high booking percentage\n",
        "plt.figure(figsize = (8,5))\n",
        "sns.barplot(x = booking_percent_df['hotel'], y = booking_percent_df['Booking Percentage'] )\n",
        "plt.show()"
      ],
      "metadata": {
        "id": "7v_ESjsspbW7"
      },
      "execution_count": null,
      "outputs": []
    },
    {
      "cell_type": "markdown",
      "source": [
        "##### 1. Why did you pick the specific chart?"
      ],
      "metadata": {
        "id": "K5QZ13OEpz2H"
      }
    },
    {
      "cell_type": "markdown",
      "source": [
        "To show comparison between hotel (categorical variable) and booking percentage."
      ],
      "metadata": {
        "id": "XESiWehPqBRc"
      }
    },
    {
      "cell_type": "markdown",
      "source": [
        "##### 2. What is/are the insight(s) found from the chart?"
      ],
      "metadata": {
        "id": "lQ7QKXXCp7Bj"
      }
    },
    {
      "cell_type": "markdown",
      "source": [
        "City hotel is preferred more in comparision with resort hotel."
      ],
      "metadata": {
        "id": "C_j1G7yiqdRP"
      }
    },
    {
      "cell_type": "markdown",
      "source": [
        "##### 3. Will the gained insights help creating a positive business impact? \n",
        "Are there any insights that lead to negative growth? Justify with specific reason."
      ],
      "metadata": {
        "id": "448CDAPjqfQr"
      }
    },
    {
      "cell_type": "markdown",
      "source": [
        "This insight with further analysis over other factors can help shaping the marketing stratergy to a trageted audience. It can also help someone get a insight who is planing on getting into a hotel business."
      ],
      "metadata": {
        "id": "3cspy4FjqxJW"
      }
    },
    {
      "cell_type": "markdown",
      "source": [
        "#### Chart - 2"
      ],
      "metadata": {
        "id": "KSlN3yHqYklG"
      }
    },
    {
      "cell_type": "code",
      "source": [
        "# Chart - 2 visualization code\n",
        "\n",
        "# Hotel type with higher average Average Daily Rate(adr)\n",
        "plt.figure(figsize = (8,5))\n",
        "sns.barplot(x = hotel_revenue_df['hotel'], y = hotel_revenue_df['Avg adr'] )\n",
        "plt.show()"
      ],
      "metadata": {
        "id": "R4YgtaqtYklH"
      },
      "execution_count": null,
      "outputs": []
    },
    {
      "cell_type": "markdown",
      "source": [
        "##### 1. Why did you pick the specific chart?"
      ],
      "metadata": {
        "id": "t6dVpIINYklI"
      }
    },
    {
      "cell_type": "markdown",
      "source": [
        "To show the comparision of hotel (categorical variable) with average adr."
      ],
      "metadata": {
        "id": "5aaW0BYyYklI"
      }
    },
    {
      "cell_type": "markdown",
      "source": [
        "##### 2. What is/are the insight(s) found from the chart?"
      ],
      "metadata": {
        "id": "ijmpgYnKYklI"
      }
    },
    {
      "cell_type": "markdown",
      "source": [
        "There is no significant diffrence between adr of both hotels however city hotel has slightly higher adr."
      ],
      "metadata": {
        "id": "PSx9atu2YklI"
      }
    },
    {
      "cell_type": "markdown",
      "source": [
        "##### 3. Will the gained insights help creating a positive business impact? \n",
        "Are there any insights that lead to negative growth? Justify with specific reason."
      ],
      "metadata": {
        "id": "-JiQyfWJYklI"
      }
    },
    {
      "cell_type": "markdown",
      "source": [
        "No there is no positve or negative impact on business. There are more factors that can have an impact on the business."
      ],
      "metadata": {
        "id": "BcBbebzrYklV"
      }
    },
    {
      "cell_type": "markdown",
      "source": [
        "#### Chart - 3"
      ],
      "metadata": {
        "id": "EM7whBJCYoAo"
      }
    },
    {
      "cell_type": "code",
      "source": [
        "# Chart - 3 visualization code\n",
        "\n",
        "# Most preferred hotel type by guests.\n",
        "Guest_stay = hb_df_new[hb_df_new['is_canceled']==0]\n",
        "Guest_stay_1 = Guest_stay[Guest_stay['total_stay']<15]\n",
        "plt.figure(figsize = (10,5))\n",
        "sns.countplot(x = Guest_stay_1['total_stay'], hue = Guest_stay_1['hotel'])\n",
        "plt.show()"
      ],
      "metadata": {
        "id": "t6GMdE67YoAp"
      },
      "execution_count": null,
      "outputs": []
    },
    {
      "cell_type": "markdown",
      "source": [
        "##### 1. Why did you pick the specific chart?"
      ],
      "metadata": {
        "id": "fge-S5ZAYoAp"
      }
    },
    {
      "cell_type": "markdown",
      "source": [
        "Hotel is a categorical variable so the bar plot is used to show the distribution over total_stay. "
      ],
      "metadata": {
        "id": "5dBItgRVYoAp"
      }
    },
    {
      "cell_type": "markdown",
      "source": [
        "##### 2. What is/are the insight(s) found from the chart?"
      ],
      "metadata": {
        "id": "85gYPyotYoAp"
      }
    },
    {
      "cell_type": "markdown",
      "source": [
        "Guest prefer city hotel for shorter stay and resort hotel for longer stay."
      ],
      "metadata": {
        "id": "4jstXR6OYoAp"
      }
    },
    {
      "cell_type": "markdown",
      "source": [
        "##### 3. Will the gained insights help creating a positive business impact? \n",
        "Are there any insights that lead to negative growth? Justify with specific reason."
      ],
      "metadata": {
        "id": "RoGjAbkUYoAp"
      }
    },
    {
      "cell_type": "markdown",
      "source": [
        "Hotels could use this insight to do some audiance research and traget their marketing campaign accordingly."
      ],
      "metadata": {
        "id": "zfJ8IqMcYoAp"
      }
    },
    {
      "cell_type": "markdown",
      "source": [
        "#### Chart - 4"
      ],
      "metadata": {
        "id": "4Of9eVA-YrdM"
      }
    },
    {
      "cell_type": "code",
      "source": [
        "# Chart - 4 visualization code\n",
        "\n",
        "# Average stay for both hotel type.\n",
        "plt.figure(figsize = (8,5))\n",
        "sns.barplot(x = avg_stay['hotel'], y = avg_stay['total_stay'] )\n",
        "plt.show()"
      ],
      "metadata": {
        "id": "irlUoxc8YrdO"
      },
      "execution_count": null,
      "outputs": []
    },
    {
      "cell_type": "markdown",
      "source": [
        "##### 1. Why did you pick the specific chart?"
      ],
      "metadata": {
        "id": "iky9q4vBYrdO"
      }
    },
    {
      "cell_type": "markdown",
      "source": [
        "Hotel is a categorical variable and bar plot is a good choice to shows the distribution."
      ],
      "metadata": {
        "id": "aJRCwT6DYrdO"
      }
    },
    {
      "cell_type": "markdown",
      "source": [
        "##### 2. What is/are the insight(s) found from the chart?"
      ],
      "metadata": {
        "id": "F6T5p64dYrdO"
      }
    },
    {
      "cell_type": "markdown",
      "source": [
        "Average stay of a guest for city hotel is around 3 Days. And average stay of a guest for resort hotel is around 4 days."
      ],
      "metadata": {
        "id": "Xx8WAJvtYrdO"
      }
    },
    {
      "cell_type": "markdown",
      "source": [
        "##### 3. Will the gained insights help creating a positive business impact? \n",
        "Are there any insights that lead to negative growth? Justify with specific reason."
      ],
      "metadata": {
        "id": "y-Ehk30pYrdP"
      }
    },
    {
      "cell_type": "markdown",
      "source": [
        "Knowing the average stay can help hotels prepare if they get more bookings and also stratergise their offers and marketing campaign accordingly."
      ],
      "metadata": {
        "id": "jLNxxz7MYrdP"
      }
    },
    {
      "cell_type": "markdown",
      "source": [
        "#### Chart - 5"
      ],
      "metadata": {
        "id": "bamQiAODYuh1"
      }
    },
    {
      "cell_type": "code",
      "source": [
        "# Chart - 5 visualization code\n",
        "\n",
        "# Room Type in most demand.\n",
        "plt.figure(figsize = (8,5))\n",
        "sns.barplot(x = reserved_room_df['reserved_room_type'], y = reserved_room_df['hotel'] )\n",
        "plt.show()"
      ],
      "metadata": {
        "id": "TIJwrbroYuh3"
      },
      "execution_count": null,
      "outputs": []
    },
    {
      "cell_type": "markdown",
      "source": [
        "##### 1. Why did you pick the specific chart?"
      ],
      "metadata": {
        "id": "QHF8YVU7Yuh3"
      }
    },
    {
      "cell_type": "markdown",
      "source": [
        "reserved_room_type is a discrete variable and bar plot is a good choice show the comparision."
      ],
      "metadata": {
        "id": "dcxuIMRPYuh3"
      }
    },
    {
      "cell_type": "markdown",
      "source": [
        "##### 2. What is/are the insight(s) found from the chart?"
      ],
      "metadata": {
        "id": "GwzvFGzlYuh3"
      }
    },
    {
      "cell_type": "markdown",
      "source": [
        "Room type A is in most demand."
      ],
      "metadata": {
        "id": "uyqkiB8YYuh3"
      }
    },
    {
      "cell_type": "markdown",
      "source": [
        "##### 3. Will the gained insights help creating a positive business impact? \n",
        "Are there any insights that lead to negative growth? Justify with specific reason."
      ],
      "metadata": {
        "id": "qYpmQ266Yuh3"
      }
    },
    {
      "cell_type": "markdown",
      "source": [
        "Room type A is in most demand. Hotel should work on creating better offers through which they can get a better revenue generating deal by selling more of room type A."
      ],
      "metadata": {
        "id": "_WtzZ_hCYuh4"
      }
    },
    {
      "cell_type": "markdown",
      "source": [
        "#### Chart - 6"
      ],
      "metadata": {
        "id": "OH-pJp9IphqM"
      }
    },
    {
      "cell_type": "code",
      "source": [
        "# Chart - 6 visualization code\n",
        "\n",
        "# Room type with highest average adr\n",
        "plt.figure(figsize = (8,5))\n",
        "sns.barplot(x = high_adr_room_type['assigned_room_type'], y = high_adr_room_type['Avg adr'] )\n",
        "plt.show()"
      ],
      "metadata": {
        "id": "kuRf4wtuphqN"
      },
      "execution_count": null,
      "outputs": []
    },
    {
      "cell_type": "markdown",
      "source": [
        "##### 1. Why did you pick the specific chart?"
      ],
      "metadata": {
        "id": "bbFf2-_FphqN"
      }
    },
    {
      "cell_type": "markdown",
      "source": [
        "Assigned room type is a discrete variable and thus bar plot is a better choice for visualization."
      ],
      "metadata": {
        "id": "loh7H2nzphqN"
      }
    },
    {
      "cell_type": "markdown",
      "source": [
        "##### 2. What is/are the insight(s) found from the chart?"
      ],
      "metadata": {
        "id": "_ouA3fa0phqN"
      }
    },
    {
      "cell_type": "markdown",
      "source": [
        "Room type H and G have higher average adr."
      ],
      "metadata": {
        "id": "VECbqPI7phqN"
      }
    },
    {
      "cell_type": "markdown",
      "source": [
        "##### 3. Will the gained insights help creating a positive business impact? \n",
        "Are there any insights that lead to negative growth? Justify with specific reason."
      ],
      "metadata": {
        "id": "Seke61FWphqN"
      }
    },
    {
      "cell_type": "markdown",
      "source": [
        "Room type A is in more demand. Hotel should work on marketing stratergy and good offers to sell room type H,G,A more for getting better adr and making good revenue."
      ],
      "metadata": {
        "id": "DW4_bGpfphqN"
      }
    },
    {
      "cell_type": "markdown",
      "source": [
        "#### Chart - 7"
      ],
      "metadata": {
        "id": "PIIx-8_IphqN"
      }
    },
    {
      "cell_type": "code",
      "source": [
        "# Chart - 7 visualization code\n",
        "\n",
        "# Distribution Channel with most number of booking.\n",
        "# Disrtibution Channel with most number of cancellations.\n",
        "\n",
        "fig = px.bar(dis_channel_cancel_df, x=\"distribution_channel\", y=\"hotel\", color=\"is_canceled\",\n",
        "            hover_data=['is_canceled'], barmode = 'stack')\n",
        " \n",
        "fig.show()"
      ],
      "metadata": {
        "id": "lqAIGUfyphqO"
      },
      "execution_count": null,
      "outputs": []
    },
    {
      "cell_type": "markdown",
      "source": [
        "##### 1. Why did you pick the specific chart?"
      ],
      "metadata": {
        "id": "t27r6nlMphqO"
      }
    },
    {
      "cell_type": "markdown",
      "source": [
        "For showing both the values of is_canceled coresponding to distributuion channel we have used bar (stack) plot for visualization."
      ],
      "metadata": {
        "id": "iv6ro40sphqO"
      }
    },
    {
      "cell_type": "markdown",
      "source": [
        "##### 2. What is/are the insight(s) found from the chart?"
      ],
      "metadata": {
        "id": "r2jJGEOYphqO"
      }
    },
    {
      "cell_type": "markdown",
      "source": [
        "TA/TO has most number of bookings. However 40% of it gets cancelled. GDS has negligiable amount of booking."
      ],
      "metadata": {
        "id": "Po6ZPi4hphqO"
      }
    },
    {
      "cell_type": "markdown",
      "source": [
        "##### 3. Will the gained insights help creating a positive business impact? \n",
        "Are there any insights that lead to negative growth? Justify with specific reason."
      ],
      "metadata": {
        "id": "b0JNsNcRphqO"
      }
    },
    {
      "cell_type": "markdown",
      "source": [
        "Hotels should work on coming up with better listing and better deals to reduce the cancellation from TA/TO. Hotels should also fix a price point to cope up with GDS fee and work with GDS to increase their revenue by getting more bookings through GDS."
      ],
      "metadata": {
        "id": "xvSq8iUTphqO"
      }
    },
    {
      "cell_type": "markdown",
      "source": [
        "#### Chart - 8"
      ],
      "metadata": {
        "id": "BZR9WyysphqO"
      }
    },
    {
      "cell_type": "code",
      "source": [
        "# Chart - 8 visualization code\n",
        "\n",
        "# Distribution Channel that brings in better revenue generating deal for hotels\n",
        "sns.barplot(x = dc_hotel['distribution_channel'], y = dc_hotel['Avg adr'], hue = dc_hotel['hotel'])\n",
        "plt.ylim(40,140)\n",
        "plt.show()"
      ],
      "metadata": {
        "id": "TdPTWpAVphqO"
      },
      "execution_count": null,
      "outputs": []
    },
    {
      "cell_type": "markdown",
      "source": [
        "##### 1. Why did you pick the specific chart?"
      ],
      "metadata": {
        "id": "jj7wYXLtphqO"
      }
    },
    {
      "cell_type": "markdown",
      "source": [
        "Hotel is a categorical variable so bar plot is used for the comparision."
      ],
      "metadata": {
        "id": "Ob8u6rCTphqO"
      }
    },
    {
      "cell_type": "markdown",
      "source": [
        "##### 2. What is/are the insight(s) found from the chart?"
      ],
      "metadata": {
        "id": "eZrbJ2SmphqO"
      }
    },
    {
      "cell_type": "markdown",
      "source": [
        "GDS brings in the better revenue generating deal for city hotel.\n",
        "\n",
        "Direct booking channel gets better revenue genersting deal for resort hotel.\n",
        "\n",
        "GDS has no contribution for resort hotel."
      ],
      "metadata": {
        "id": "mZtgC_hjphqO"
      }
    },
    {
      "cell_type": "markdown",
      "source": [
        "##### 3. Will the gained insights help creating a positive business impact? \n",
        "Are there any insights that lead to negative growth? Justify with specific reason."
      ],
      "metadata": {
        "id": "rFu4xreNphqO"
      }
    },
    {
      "cell_type": "markdown",
      "source": [
        "GDS distribution has good numbers with city hotel. Resort hotel should work with GDS to create a better marketing stratergy and offer better deals to increase the revenue."
      ],
      "metadata": {
        "id": "ey_0qi68phqO"
      }
    },
    {
      "cell_type": "markdown",
      "source": [
        "#### Chart - 9"
      ],
      "metadata": {
        "id": "YJ55k-q6phqO"
      }
    },
    {
      "cell_type": "code",
      "source": [
        "# Chart - 9 visualization code\n",
        "\n",
        "# Agent with most number of bookings\n",
        "\n",
        "plt.figure(figsize = (10,5))\n",
        "sns.barplot(x = 'agent', y = 'hotel', data = agent_booking_df)"
      ],
      "metadata": {
        "id": "B2aS4O1ophqO"
      },
      "execution_count": null,
      "outputs": []
    },
    {
      "cell_type": "markdown",
      "source": [
        "##### 1. Why did you pick the specific chart?"
      ],
      "metadata": {
        "id": "gCFgpxoyphqP"
      }
    },
    {
      "cell_type": "markdown",
      "source": [
        "Agent is a discrete variable and so bar plot is used for the comparision."
      ],
      "metadata": {
        "id": "TVxDimi2phqP"
      }
    },
    {
      "cell_type": "markdown",
      "source": [
        "##### 2. What is/are the insight(s) found from the chart?"
      ],
      "metadata": {
        "id": "OVtJsKN_phqQ"
      }
    },
    {
      "cell_type": "markdown",
      "source": [
        "Agent no. 9 has most number of bookings."
      ],
      "metadata": {
        "id": "ngGi97qjphqQ"
      }
    },
    {
      "cell_type": "markdown",
      "source": [
        "##### 3. Will the gained insights help creating a positive business impact? \n",
        "Are there any insights that lead to negative growth? Justify with specific reason."
      ],
      "metadata": {
        "id": "lssrdh5qphqQ"
      }
    },
    {
      "cell_type": "markdown",
      "source": [
        "Hotels can collabarate with agent 9. and create a profitable impact on revenue."
      ],
      "metadata": {
        "id": "tBpY5ekJphqQ"
      }
    },
    {
      "cell_type": "markdown",
      "source": [
        "#### Chart - 10"
      ],
      "metadata": {
        "id": "U2RJ9gkRphqQ"
      }
    },
    {
      "cell_type": "code",
      "source": [
        "# Chart - 10 visualization code\n",
        "\n",
        "# Country with most number of bookings.\n",
        "# Country with most number of cancellation.\n",
        "fig = px.bar(country_wise, x=\"country\", y=\"hotel\", color=\"is_canceled\",hover_data=['is_canceled'], barmode = 'stack')\n",
        "fig.show()"
      ],
      "metadata": {
        "id": "GM7a4YP4phqQ"
      },
      "execution_count": null,
      "outputs": []
    },
    {
      "cell_type": "markdown",
      "source": [
        "##### 1. Why did you pick the specific chart?"
      ],
      "metadata": {
        "id": "1M8mcRywphqQ"
      }
    },
    {
      "cell_type": "markdown",
      "source": [
        "Here there is a comparison between three variables out of which is_cancled is a categorical variable so bar (stack) plot is used."
      ],
      "metadata": {
        "id": "8agQvks0phqQ"
      }
    },
    {
      "cell_type": "markdown",
      "source": [
        "##### 2. What is/are the insight(s) found from the chart?"
      ],
      "metadata": {
        "id": "tgIPom80phqQ"
      }
    },
    {
      "cell_type": "markdown",
      "source": [
        "Most number of bookings are from Portugal. Howere 56% of those booking gets cancelled."
      ],
      "metadata": {
        "id": "Qp13pnNzphqQ"
      }
    },
    {
      "cell_type": "markdown",
      "source": [
        "##### 3. Will the gained insights help creating a positive business impact? \n",
        "Are there any insights that lead to negative growth? Justify with specific reason."
      ],
      "metadata": {
        "id": "JMzcOPDDphqR"
      }
    },
    {
      "cell_type": "markdown",
      "source": [
        "Hotels can run more marketing campaign in protugal as there are more guests booking hotel from portugal. However hotels need to understand most number of cancellation are also from portugal more marketing budget can lead to less returns so they could come up with better offers and deals particularly for Portugal."
      ],
      "metadata": {
        "id": "R4Ka1PC2phqR"
      }
    },
    {
      "cell_type": "markdown",
      "source": [
        "#### Chart - 11"
      ],
      "metadata": {
        "id": "x-EpHcCOp1ci"
      }
    },
    {
      "cell_type": "code",
      "source": [
        "# Chart - 11 visualization code\n",
        "\n",
        "# Busiest months of the year for the hotels.\n",
        "plt.figure(figsize = (13,7))\n",
        "sns.barplot(x = most_busy_month['arrival_date_month'], y = most_busy_month['no. of guests'], hue = most_busy_month['hotel'])\n",
        "plt.ylim(40,6000)\n",
        "plt.show()"
      ],
      "metadata": {
        "id": "mAQTIvtqp1cj"
      },
      "execution_count": null,
      "outputs": []
    },
    {
      "cell_type": "code",
      "source": [
        "# Booking Trend around the year for both the hotels.\n",
        "sns.lineplot(data=guest_city_resort_hotel, x='month', y='no. of guests in resort')\n",
        "sns.lineplot(data=guest_city_resort_hotel, x='month', y='no. of guest in city hotel')\n",
        "plt.legend(['Resort','City Hotel'])\n",
        "plt.ylabel('Number of guest')\n",
        "fig = plt.gcf()\n",
        "fig.set_size_inches(15,10)"
      ],
      "metadata": {
        "id": "ysDLyvkZuuKw"
      },
      "execution_count": null,
      "outputs": []
    },
    {
      "cell_type": "markdown",
      "source": [
        "##### 1. Why did you pick the specific chart?"
      ],
      "metadata": {
        "id": "X_VqEhTip1ck"
      }
    },
    {
      "cell_type": "markdown",
      "source": [
        "Hotel is a categorical variable with two value city hotel and resort hotel,therfore bar plot is used for comparison.\n",
        "\n",
        "Line chart is used to show the booking trend over different months of the year."
      ],
      "metadata": {
        "id": "-vsMzt_np1ck"
      }
    },
    {
      "cell_type": "markdown",
      "source": [
        "##### 2. What is/are the insight(s) found from the chart?"
      ],
      "metadata": {
        "id": "8zGJKyg5p1ck"
      }
    },
    {
      "cell_type": "markdown",
      "source": [
        "August and july are the busiest month for hotels."
      ],
      "metadata": {
        "id": "ZYdMsrqVp1ck"
      }
    },
    {
      "cell_type": "markdown",
      "source": [
        "##### 3. Will the gained insights help creating a positive business impact? \n",
        "Are there any insights that lead to negative growth? Justify with specific reason."
      ],
      "metadata": {
        "id": "PVzmfK_Ep1ck"
      }
    },
    {
      "cell_type": "markdown",
      "source": [
        "Knowing the trend in advance hotel can be prepared for the more volume of guests prior to their booking. As more guests are booking for rooms hotels can run good marketing campaigns during and around this period."
      ],
      "metadata": {
        "id": "druuKYZpp1ck"
      }
    },
    {
      "cell_type": "markdown",
      "source": [
        "#### Chart - 12"
      ],
      "metadata": {
        "id": "n3dbpmDWp1ck"
      }
    },
    {
      "cell_type": "code",
      "source": [
        "# Chart - 12 visualization code\n",
        "\n",
        "# Impact of months on revenue.\n",
        "sns.lineplot(data=resort_city_adr, x='month', y='Resort Hotel Price')\n",
        "sns.lineplot(data=resort_city_adr, x='month', y='City Hotel Price')\n",
        "plt.legend(['Resort','City Hotel'])\n",
        "plt.ylabel('adr')\n",
        "fig = plt.gcf()\n",
        "fig.set_size_inches(15,10)"
      ],
      "metadata": {
        "id": "bwevp1tKp1ck"
      },
      "execution_count": null,
      "outputs": []
    },
    {
      "cell_type": "code",
      "source": [
        "# Impact of months on adr.\n",
        "Months = ['January', 'February','March','April','May','June','July','August','September','October','November','December']\n",
        "hb_df_new['arrival_date_month'] = pd.Categorical(hb_df_new['arrival_date_month'],categories=Months,ordered=True)\n",
        "plt.figure(figsize = (15,8))\n",
        "sns.boxplot(x = hb_df_new['arrival_date_month'],y = hb_df_new['adr'])\n",
        "plt.show()"
      ],
      "metadata": {
        "id": "ylr9_XGHwKv2"
      },
      "execution_count": null,
      "outputs": []
    },
    {
      "cell_type": "markdown",
      "source": [
        "##### 1. Why did you pick the specific chart?"
      ],
      "metadata": {
        "id": "ylSl6qgtp1ck"
      }
    },
    {
      "cell_type": "markdown",
      "source": [
        "Line chart is used to show the booking trend and its impact on revenue across all months of the year.\n",
        "\n",
        "Box plot is used to show the distribution of adr across different months of the year."
      ],
      "metadata": {
        "id": "m2xqNkiQp1ck"
      }
    },
    {
      "cell_type": "markdown",
      "source": [
        "##### 2. What is/are the insight(s) found from the chart?"
      ],
      "metadata": {
        "id": "ZWILFDl5p1ck"
      }
    },
    {
      "cell_type": "markdown",
      "source": [
        "\n",
        "\n",
        "Average adr keeping rising from begining of the month and the reaches its peak in august month and then get lower as it reaches end of the year.However there is slight increase in the average adr value for december month, it can also be inferred that hotels make better deals with with higher adr during that month."
      ],
      "metadata": {
        "id": "x-lUsV2mp1ck"
      }
    },
    {
      "cell_type": "markdown",
      "source": [
        "##### 3. Will the gained insights help creating a positive business impact? \n",
        "Are there any insights that lead to negative growth? Justify with specific reason."
      ],
      "metadata": {
        "id": "M7G43BXep1ck"
      }
    },
    {
      "cell_type": "markdown",
      "source": [
        "Hotels can create an upsell offers during busy months to generate more revenue."
      ],
      "metadata": {
        "id": "5wwDJXsLp1cl"
      }
    },
    {
      "cell_type": "markdown",
      "source": [
        "#### Chart - 13"
      ],
      "metadata": {
        "id": "Ag9LCva-p1cl"
      }
    },
    {
      "cell_type": "code",
      "source": [
        "# Chart - 13 visualization code\n",
        "\n",
        "# Duration of stay vs. adr\n",
        "plt.figure(figsize = (12,6))\n",
        "sns.scatterplot(y = 'adr', x = 'total_stay', data = hb_df_new)\n",
        "plt.show()"
      ],
      "metadata": {
        "id": "EUfxeq9-p1cl"
      },
      "execution_count": null,
      "outputs": []
    },
    {
      "cell_type": "markdown",
      "source": [
        "##### 1. Why did you pick the specific chart?"
      ],
      "metadata": {
        "id": "E6MkPsBcp1cl"
      }
    },
    {
      "cell_type": "markdown",
      "source": [
        "Scatter plot is used to determine if there is any relationship between total_stay and adr."
      ],
      "metadata": {
        "id": "V22bRsFWp1cl"
      }
    },
    {
      "cell_type": "markdown",
      "source": [
        "##### 2. What is/are the insight(s) found from the chart?"
      ],
      "metadata": {
        "id": "2cELzS2fp1cl"
      }
    },
    {
      "cell_type": "markdown",
      "source": [
        "Scatter plot shows with increase in stay adr decreases."
      ],
      "metadata": {
        "id": "ozQPc2_Ip1cl"
      }
    },
    {
      "cell_type": "markdown",
      "source": [
        "##### 3. Will the gained insights help creating a positive business impact? \n",
        "Are there any insights that lead to negative growth? Justify with specific reason."
      ],
      "metadata": {
        "id": "3MPXvC8up1cl"
      }
    },
    {
      "cell_type": "markdown",
      "source": [
        "No, there is no negative impact of this insight on hotel. Infact this insight could be used to make better offers for guests who plan their trips."
      ],
      "metadata": {
        "id": "GL8l1tdLp1cl"
      }
    },
    {
      "cell_type": "markdown",
      "source": [
        "#### Chart - 14"
      ],
      "metadata": {
        "id": "dX5lcHfV5Xlh"
      }
    },
    {
      "cell_type": "code",
      "source": [
        "# chart- 14 visualization code\n",
        "\n",
        "#Impact of longer wait time and longer lead time on cancellations\n",
        "\n",
        "non_zero_waiting_days = hb_df_new[hb_df_new['days_in_waiting_list']!=0]\n",
        "\n",
        "fig, axes = plt.subplots(1, 2, figsize=(18, 8))\n",
        "sns.kdeplot(ax=axes[0],x = 'days_in_waiting_list', hue = 'is_canceled' , data = non_zero_waiting_days)\n",
        "sns.kdeplot(ax = axes[1], x = hb_df_new['lead_time'], hue = hb_df_new['is_canceled'])\n",
        "plt.show()"
      ],
      "metadata": {
        "id": "hQzwADeN5Xlh"
      },
      "execution_count": null,
      "outputs": []
    },
    {
      "cell_type": "markdown",
      "source": [
        "##### 1. Why did you pick the specific chart?"
      ],
      "metadata": {
        "id": "ieh3aJ7s5Xlh"
      }
    },
    {
      "cell_type": "markdown",
      "source": [
        "This charts shows the representation of both the factors affecting cancellation in a easy to understand visualization."
      ],
      "metadata": {
        "id": "vvuI52u85Xli"
      }
    },
    {
      "cell_type": "markdown",
      "source": [
        "##### 2. What is/are the insight(s) found from the chart?"
      ],
      "metadata": {
        "id": "hlYY7Fsk5Xli"
      }
    },
    {
      "cell_type": "markdown",
      "source": [
        "Graphs for both days_in_waiting_list and lead_time are almost similar and they both indicate that there is no significant effect of both the factors on cancellations."
      ],
      "metadata": {
        "id": "BC0DWD-15Xli"
      }
    },
    {
      "cell_type": "markdown",
      "source": [
        "####Chart - 15"
      ],
      "metadata": {
        "id": "KwMQdpaE7BCI"
      }
    },
    {
      "cell_type": "code",
      "source": [
        "#Chart - 15 visualization code\n",
        "\n",
        "# Impact of not getting the same room as booked by guest on cancellations.\n",
        "plt.figure(figsize = (10,7))\n",
        "sns.barplot(x = room_allocation.index, y = room_allocation['assigned_room_not_demanded_room%'])\n",
        "plt.show()\n"
      ],
      "metadata": {
        "id": "IAdkYHz_7Kdo"
      },
      "execution_count": null,
      "outputs": []
    },
    {
      "cell_type": "markdown",
      "source": [
        "##### 1. Why did you pick the specific chart?"
      ],
      "metadata": {
        "id": "HTXt9tAP92rb"
      }
    },
    {
      "cell_type": "markdown",
      "source": [
        "Bar plots makes it easy to understand the data where a categorical variable like 'is_canceled' is used."
      ],
      "metadata": {
        "id": "XfkpavFs96bd"
      }
    },
    {
      "cell_type": "markdown",
      "source": [
        "##### 2. What is/are the insight(s) found from the chart?"
      ],
      "metadata": {
        "id": "C1StqbfR_9oJ"
      }
    },
    {
      "cell_type": "markdown",
      "source": [
        "As the graph shows there is no significant effect of room allocation on cancellations."
      ],
      "metadata": {
        "id": "uiCc6VXrAATM"
      }
    },
    {
      "cell_type": "markdown",
      "source": [
        "#### Chart - 16"
      ],
      "metadata": {
        "id": "v12M08k28QNK"
      }
    },
    {
      "cell_type": "code",
      "source": [
        "# chart - 16 visualization code\n",
        "\n",
        "# Impact of not being assigned the same room as booked by guest on adr.\n",
        "plt.figure(figsize = (12,6))\n",
        "sns.boxplot(x = 'assigned_room_not_demanded_room', y = 'adr', data = hb_df_new)\n",
        "plt.show()"
      ],
      "metadata": {
        "id": "sfXue4vr8QNL"
      },
      "execution_count": null,
      "outputs": []
    },
    {
      "cell_type": "markdown",
      "source": [
        "##### 1. Why did you pick the specific chart?"
      ],
      "metadata": {
        "id": "mrCfbEow8QNL"
      }
    },
    {
      "cell_type": "markdown",
      "source": [
        "Box plot makes easy showing the distribution of numeric data values and their comparision."
      ],
      "metadata": {
        "id": "rDj-Lc588QNM"
      }
    },
    {
      "cell_type": "markdown",
      "source": [
        "##### 2. What is/are the insight(s) found from the chart?"
      ],
      "metadata": {
        "id": "nwD-VrI-8QNM"
      }
    },
    {
      "cell_type": "markdown",
      "source": [
        "Not being assigned the same room as demanded has some of effects on average daily rates for hotels. People not getting the same room as demanded tend to pay lower price for the room."
      ],
      "metadata": {
        "id": "OqOtpYjG8QNM"
      }
    },
    {
      "cell_type": "markdown",
      "source": [
        "#### Chart - 17"
      ],
      "metadata": {
        "id": "r-5VghDpBLi7"
      }
    },
    {
      "cell_type": "code",
      "source": [
        "# chart - 17 visualization code\n",
        "\n",
        "# Impact of deposit policy on cancellation.\n",
        "sns.barplot(x = impact_deposit_policy['deposit_type'], y = impact_deposit_policy['hotel'], hue = impact_deposit_policy['is_canceled'])\n",
        "plt.show()"
      ],
      "metadata": {
        "id": "bNZeetTGBLi8"
      },
      "execution_count": null,
      "outputs": []
    },
    {
      "cell_type": "markdown",
      "source": [
        "##### 1. Why did you pick the specific chart?"
      ],
      "metadata": {
        "id": "wBVSWQuzBLi8"
      }
    },
    {
      "cell_type": "markdown",
      "source": [
        "Is_canceled is a categorical variable, so bar plot is used for visualization."
      ],
      "metadata": {
        "id": "5gpYp2qCBLi8"
      }
    },
    {
      "cell_type": "markdown",
      "source": [
        "##### 2. What is/are the insight(s) found from the chart?"
      ],
      "metadata": {
        "id": "V6s6lJfgBLi8"
      }
    },
    {
      "cell_type": "markdown",
      "source": [
        "Booking and cancellations numbers for hotels with refundable deposit policy is significantly low.\n",
        "\n",
        "Cancellations for the hotels with non-refundable deposit policy are comparatively very high.\n",
        "\n",
        "There is no significant effect on cancellations for hotel with no deposit policy.\n"
      ],
      "metadata": {
        "id": "rfDM3VvOBLi8"
      }
    },
    {
      "cell_type": "markdown",
      "source": [
        "#### Chart - 18 - Correlation Heatmap"
      ],
      "metadata": {
        "id": "NC_X3p0fY2L0"
      }
    },
    {
      "cell_type": "code",
      "source": [
        "# Correlation Heatmap visualization code\n",
        "\n",
        "hb_df_new_1 = hb_df_new[['lead_time','previous_cancellations','previous_bookings_not_canceled','booking_changes','days_in_waiting_list','adr','required_car_parking_spaces','total_of_special_requests','total_stay']]\n"
      ],
      "metadata": {
        "id": "xyC9zolEZNRQ"
      },
      "execution_count": null,
      "outputs": []
    },
    {
      "cell_type": "code",
      "source": [
        "corrmat = hb_df_new_1.corr()\n",
        "f, ax = plt.subplots(figsize=(12, 7))\n",
        "sns.heatmap(corrmat,annot = True,fmt='.2f', annot_kws={'size': 10},  vmax=.8, square=True);"
      ],
      "metadata": {
        "id": "_3iVwGBjEL69"
      },
      "execution_count": null,
      "outputs": []
    },
    {
      "cell_type": "markdown",
      "source": [
        "##### 1. Why did you pick the specific chart?"
      ],
      "metadata": {
        "id": "UV0SzAkaZNRQ"
      }
    },
    {
      "cell_type": "markdown",
      "source": [
        "To find the correlation between different variables using a heat map."
      ],
      "metadata": {
        "id": "DVPuT8LYZNRQ"
      }
    },
    {
      "cell_type": "markdown",
      "source": [
        "##### 2. What is/are the insight(s) found from the chart?"
      ],
      "metadata": {
        "id": "YPEH6qLeZNRQ"
      }
    },
    {
      "cell_type": "markdown",
      "source": [
        "total_stay and lead time are slightly corelated which indicate that people who tend to stay longer generally have their the trip planned prior to their arrival.\n",
        "total_stay and adr are slightly corelated."
      ],
      "metadata": {
        "id": "bfSqtnDqZNRR"
      }
    },
    {
      "cell_type": "markdown",
      "source": [
        "## **5. Solution to Business Objective**"
      ],
      "metadata": {
        "id": "JcMwzZxoAimU"
      }
    },
    {
      "cell_type": "markdown",
      "source": [
        "#### What do you suggest the client to achieve Business Objective ? \n"
      ],
      "metadata": {
        "id": "8G2x9gOozGDZ"
      }
    },
    {
      "cell_type": "markdown",
      "source": [
        "- Most of the cancellations are from portugal and the distribution channel used is TA/TO. Lead time, Waiting Period and not getting the same room as reserved have no significant effect on cancellations. And hotels with refundable deposit policy have less number of cancellation than the ones with non refundable deposit policy. Imposing a refundable deposit policy for all the guest from portugal can bring a change in cancellation rate.\n",
        "\n",
        "\n",
        "- TA/TO is most comman channel used for booking hotels however higher percentage of cancellation are also from TA/TO. Introducing a small cancellation fee can probably reduce the number of cancellation.\n",
        "\n",
        "- Distribution channel like GDS is not focused on for resort hotel where as it has worked well for city hotel. So resort hotels should improve there price point to cope up with the GDS fees and improve their list on GDS channel to get better deals.\n",
        "\n",
        "- Room type H and G have higher average daily rate. A good offer with better marketing stratergy, marketing Room type H and G can bring in more revenue.\n",
        "\n",
        "- Most number of guest tend to travel in july and august. A marketing campaign around this months, right price point and better add on services can bring in more guest and thus hotel can generate more revenue."
      ],
      "metadata": {
        "id": "pASKb0qOza21"
      }
    },
    {
      "cell_type": "markdown",
      "source": [
        "# **Conclusion**"
      ],
      "metadata": {
        "id": "gCX9965dhzqZ"
      }
    },
    {
      "cell_type": "markdown",
      "source": [
        "- Out of all the bookings made 60% of booking is made for city hotels and 40% of booking is made for resort hotel.\n",
        "\n",
        "- For longer stay Resort hotel is preferred and for shorter stay city hotel is preferred.\n",
        "\n",
        "- Revenue generated by city hotel is slightly higher than resort hotel.\n",
        "\n",
        "- Average stay for guest is less than 5 days for both the hotels. Where it is 3 days for city hotel and 4 days for resort hotel.\n",
        "\n",
        "- Most reserved room type is room type A.\n",
        "\n",
        "- Room type H and G have highest adr.\n",
        "\n",
        "- Highest number of bookings are from TA/TO.\n",
        "\n",
        "- 30% of bookings via TA/TO gets cancelled.\n",
        "\n",
        "- Agent No. 9 has most number of booking.\n",
        "\n",
        "- GDS distribution channel brings in better revenue generating deals for hotels.\n",
        "\n",
        "- Most number of bookings are from portugal.\n",
        "\n",
        "- Almost 56% of bookings from protugal gets cancelled.\n",
        "\n",
        "- July and August Are the busiest month of the year for hotels.\n",
        "\n",
        "- Hotels experiences a rise in adr from begining of the year and reaches its peak at august and then gradually decrease towards the end of the year. \n",
        "\n",
        "- lead time, Waiting time and not getting the same room as reserved as no significant impact on cancellation.\n",
        "\n",
        "- Not getting same room as reserved results into slight decrease in adr.\n",
        "\n",
        "- Hotel with Refundable deposit policy experience lesser percentage cancelation.\n",
        "\n",
        "- Longer stay resutl in lesser adr value."
      ],
      "metadata": {
        "id": "Fjb1IsQkh3yE"
      }
    },
    {
      "cell_type": "markdown",
      "source": [
        "### ***Hurrah! You have successfully completed your EDA Capstone Project !!!***"
      ],
      "metadata": {
        "id": "gIfDvo9L0UH2"
      }
    }
  ]
}